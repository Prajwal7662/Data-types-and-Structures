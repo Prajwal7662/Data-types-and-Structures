{
  "nbformat": 4,
  "nbformat_minor": 0,
  "metadata": {
    "colab": {
      "provenance": []
    },
    "kernelspec": {
      "name": "python3",
      "display_name": "Python 3"
    },
    "language_info": {
      "name": "python"
    }
  },
  "cells": [
    {
      "cell_type": "markdown",
      "source": [
        "Data types and Structures\n",
        "\n",
        "1. What are data structures, and why are they important?\n",
        " -  Data structures are ways to organize and store data in a computer so that it can be accessed and modified efficiently. They are essential for managing large amounts of data and performing complex operations.\n",
        " Some common data structures include arrays, linked lists, stacks, queues, trees, and graphs. Each has its own strengths and weaknesses, and the choice of data structure depends on the specific requirements of the task at hand\n",
        "\n",
        "2. Explain the difference between mutable and immutable data types with examples?\n",
        " -  Mutable data types are those whose values can be modified after they are created. This means you can change, add, or remove elements without creating a new object\n",
        "\n",
        " Examples=\n",
        "\n",
        " Lists: You can add, remove, or change elements in a list.\n",
        "\n",
        "\n",
        " my_list = [1, 2, 3]\n",
        " my_list.append(4)  # my_list is now [1, 2, 3, 4]\n",
        " my_list[0] = 0    # my_list is now [0, 2, 3, 4]\n",
        "\n",
        " Dictionaries: You can add, remove, or change key-value pairs in a dictionary.\n",
        "\n",
        "\n",
        "my_dict = {'a': 1, 'b': 2}\n",
        "my_dict['c'] = 3  # my_dict is now {'a': 1, 'b': 2, 'c': 3}\n",
        "my_dict['a'] = 0  # my_dict is\n",
        "\n",
        "Immutable data types are those whose values cannot be changed after they are created. Any modification results in the creation of a new object\n",
        "\n",
        "Examples=\n",
        "\n",
        "Tuples: Once a tuple is created, its elements cannot be changed.\n",
        "\n",
        "\n",
        "my_tuple = (1, 2, 3)\n",
        "# my_tuple[0] = 0  # This will raise a TypeError\n",
        "\n",
        "Strings: Strings are immutable, so any modification creates a new string.\n",
        "\n",
        "\n",
        "my_string = \"hello\"\n",
        "new_string = my_string.replace('h', 'j')  \n",
        "\n",
        "3. What are the main differences between lists and tuples in Python?\n",
        " - List=\n",
        "  \n",
        "  Mutable: Lists can be modified after creation. You can add, remove, or change elements.\n",
        "  \n",
        "  Dynamic Size: Lists can grow or shrink in size as needed.\n",
        "  \n",
        "  Performance: Lists are generally slower than tuples because of their dynamic nature.\n",
        "  \n",
        "  Syntax: Lists are defined using square brackets [].\n",
        "\n",
        "  Tuples=\n",
        "  \n",
        "  Immutable: Tuples cannot be modified after creation. Any attempt to change an element will result in an error.\n",
        "  \n",
        "  Fixed Size: Once a tuple is created, its size cannot change.\n",
        "  \n",
        "  Performance: Tuples are generally faster than lists because of their immutability.\n",
        "  \n",
        "  Syntax: Tuples are defined using parentheses ()\n",
        "\n",
        "4. Describe how dictionaries store data.\n",
        " -  Dictionaries in Python store data as key-value pairs, where each key is unique and maps to a specific value\n",
        "\n",
        "5. Why might you use a set instead of a list in Python?\n",
        " - Using a set instead of a list in Python can be beneficial in certain scenarios due to the unique properties of sets.\n",
        "\n",
        " sets are ideal when you need to ensure uniqueness, perform fast membership tests, or utilize set operations. Lists, on the other hand, are more flexible and allow for ordered collections with duplicate elements.\n",
        "\n",
        "6. What is a string in Python, and how is it different from a list?\n",
        " -  Strings are immutable sequences of characters, while lists are mutable collections of items that can be of any data type. This distinction affects how you can manipulate and use them in your programs\n",
        "\n",
        "7. How do tuples ensure data integrity in Python?\n",
        " -  Tuples ensure data integrity in Python through their immutability. Once a tuple is created, its elements cannot be changed, added, or removed\n",
        "\n",
        "8. What is a hash table, and how does it relate to dictionaries in Python?\n",
        " -  A hash table is a data structure that stores key-value pairs and allows for efficient data retrieval. It uses a hash function to compute an index (or hash code) into an array of buckets or slots, from which the desired value can be found.\n",
        "\n",
        "  hash tables provide the underlying mechanism for dictionaries in Python, enabling fast and efficient storage and retrieval of key-value pairs\n",
        "\n",
        "9. Can lists contain different data types in Python?\n",
        " -   Yes, lists in Python can contain elements of different data types. This flexibility allows you to store a variety of data types within a single list, including integers, floats, strings, other lists, dictionaries, and even custom objects\n",
        "\n",
        "10. Explain why strings are immutable in Python.\n",
        " - Strings in Python are immutable, meaning their values cannot be changed after they are created\n",
        "\n",
        "11. What advantages do dictionaries offer over lists for certain tasks?\n",
        " - Dictionaries are ideal for tasks that require fast lookups, unique keys, and meaningful data organization. They offer a more efficient and flexible way to manage data compared to lists, especially when dealing with large datasets or complex data structures\n",
        "\n",
        "12. Describe a scenario where using a tuple would be preferable over a list.\n",
        " - Using a tuple would be preferable over a list in scenarios where you need to ensure that the data remains constant and unchangeable\n",
        "\n",
        "13. How do sets handle duplicate values in Python?\n",
        " - Sets automatically handle duplicate values by ensuring that each element is unique. When you add elements to a set, any duplicates are automatically removed. This is because sets are implemented using a hash table, which inherently enforces uniqueness\n",
        "\n",
        "14. How does the “in” keyword work differently for lists and dictionaries?\n",
        " - For lists, the in keyword checks if a specific element is present in the list. It iterates through the list and returns True if it finds the element, otherwise it returns False\n",
        "  \n",
        "   For dictionaries, the in keyword checks if a specific key is present in the dictionary. It does not check the values, only the keys\n",
        "\n",
        "15. Can you modify the elements of a tuple? Explain why or why not.\n",
        " - No, you cannot modify the elements of a tuple in Python. This is because tuples are immutable, meaning their values cannot be changed after they are created\n",
        "\n",
        "16. What is a nested dictionary, and give an example of its use case?\n",
        " - A nested dictionary in Python is a dictionary within a dictionary. This allows you to store complex data structures in a hierarchical manner. Each key in the outer dictionary maps to another dictionary, which can contain its own key-value pairs.\n",
        " Example=\n",
        " students = {\n",
        "    'Alice': {'age': 25, 'major': 'Physics'},\n",
        "    'Bob': {'age': 22, 'major': 'Mathematics'},\n",
        "    'Charlie': {'age': 23, 'major': 'Computer Science'}\n",
        " }\n",
        "\n",
        "17. Describe the time complexity of accessing elements in a dictionary\n",
        " - Accessing elements in a dictionary in Python is highly efficient due to its underlying hash table implementation. The average time complexity for accessing elements in a dictionary is O(1), which means it takes constant time regardless of the number of elements in the dictionary\n",
        "\n",
        "18. In what situations are lists preferred over dictionaries?\n",
        " - lists are preferred when you need ordered, sequential access to homogeneous data in a simple and memory-efficient manner. They are ideal for tasks that involve iterating through elements, maintaining order, and working with collections of similar items\n",
        "\n",
        "19. Why are dictionaries considered unordered, and how does that affect data retrieval?\n",
        " - Dictionaries in Python are considered unordered because they do not maintain any specific order for the key-value pairs. The order in which items are added to the dictionary is not necessarily the order in which they are stored or retrieved. This unordered nature is due to the underlying hash table implementation, which focuses on efficient data retrieval rather than maintaining order\n",
        "\n",
        "20.  Explain the difference between a list and a dictionary in terms of data retrieval.\n",
        " - The main difference between a list and a dictionary in terms of data retrieval lies in how you access the elements and the efficiency of the retrieval process.\n",
        "\n",
        " Lists are accessed by their position (index), while dictionaries are accessed by their keys. Lists are suitable for ordered collections and sequential access, whereas dictionaries are ideal for fast lookups and key-value pair storage  \n",
        "\n",
        "\n",
        "\n",
        "  \n",
        "\n",
        "\n"
      ],
      "metadata": {
        "id": "kmt6Q4GmWeDZ"
      }
    },
    {
      "cell_type": "code",
      "execution_count": 3,
      "metadata": {
        "colab": {
          "base_uri": "https://localhost:8080/"
        },
        "id": "jzJn2lgFWYkp",
        "outputId": "1984a6a8-0113-4e14-91fd-c08dd779ea32"
      },
      "outputs": [
        {
          "output_type": "stream",
          "name": "stdout",
          "text": [
            "Prajwal\n"
          ]
        }
      ],
      "source": [
        "#1 Write a code to create a string with your name and print it\n",
        "\n",
        "my_name = \"Prajwal\"\n",
        "\n",
        "\n",
        "print(my_name)\n"
      ]
    },
    {
      "cell_type": "code",
      "source": [
        "#2 Write a code to find the length of the string \"Hello World\"\n",
        "\n",
        "my_string = \"Hello World\"\n",
        "\n",
        "length = len(my_string)\n",
        "\n",
        "print(length)\n"
      ],
      "metadata": {
        "colab": {
          "base_uri": "https://localhost:8080/"
        },
        "id": "C6Aox70UfVYM",
        "outputId": "79ae26fd-ad17-484e-e377-e731348f2d29"
      },
      "execution_count": 4,
      "outputs": [
        {
          "output_type": "stream",
          "name": "stdout",
          "text": [
            "11\n"
          ]
        }
      ]
    },
    {
      "cell_type": "code",
      "source": [
        "#3 Write a code to slice the first 3 characters from the string \"Python Programming\"\n",
        "\n",
        "my_string = \"Python Programming\"\n",
        "\n",
        "sliced_string = my_string[:3]\n",
        "\n",
        "print(sliced_string)\n"
      ],
      "metadata": {
        "colab": {
          "base_uri": "https://localhost:8080/"
        },
        "id": "zt8qoxligFJx",
        "outputId": "cf020b23-ae01-4389-95b9-694fcf0d4e5c"
      },
      "execution_count": 5,
      "outputs": [
        {
          "output_type": "stream",
          "name": "stdout",
          "text": [
            "Pyt\n"
          ]
        }
      ]
    },
    {
      "cell_type": "code",
      "source": [
        "#4 Write a code to convert the string \"hello\" to uppercase\n",
        "\n",
        "my_string = \"hello\"\n",
        "\n",
        "uppercase_string = my_string.upper()\n",
        "\n",
        "print(uppercase_string)\n"
      ],
      "metadata": {
        "colab": {
          "base_uri": "https://localhost:8080/"
        },
        "id": "tuEe9jgcgWr7",
        "outputId": "3d8f25c2-535e-4db7-dc48-c49338f55f90"
      },
      "execution_count": 7,
      "outputs": [
        {
          "output_type": "stream",
          "name": "stdout",
          "text": [
            "HELLO\n"
          ]
        }
      ]
    },
    {
      "cell_type": "code",
      "source": [
        "#5 Write a code to replace the word \"apple\" with \"orange\" in the string \"I like apple\"\n",
        "\n",
        "my_string = \"I like apple\"\n",
        "\n",
        "new_string = my_string.replace(\"apple\", \"orange\")\n",
        "\n",
        "print(new_string)\n"
      ],
      "metadata": {
        "colab": {
          "base_uri": "https://localhost:8080/"
        },
        "id": "sjIYbXj-giIm",
        "outputId": "0092838f-1f6e-4a07-8907-568ab5eaed69"
      },
      "execution_count": 8,
      "outputs": [
        {
          "output_type": "stream",
          "name": "stdout",
          "text": [
            "I like orange\n"
          ]
        }
      ]
    },
    {
      "cell_type": "code",
      "source": [
        "#6 Write a code to create a list with numbers 1 to 5 and print it\n",
        "# Create a list with numbers 1 to 5\n",
        "my_list = [1, 2, 3, 4, 5]\n",
        "\n",
        "# Print the list\n",
        "print(my_list)\n"
      ],
      "metadata": {
        "colab": {
          "base_uri": "https://localhost:8080/"
        },
        "id": "sg53jNfugvYF",
        "outputId": "accd6b7f-e61a-4425-c782-df7f0662e401"
      },
      "execution_count": 9,
      "outputs": [
        {
          "output_type": "stream",
          "name": "stdout",
          "text": [
            "[1, 2, 3, 4, 5]\n"
          ]
        }
      ]
    },
    {
      "cell_type": "code",
      "source": [
        "#7 Write a code to append the number 10 to the list [1, 2, 3, 4]\n",
        "# Create the list\n",
        "my_list = [1, 2, 3, 4]\n",
        "\n",
        "# Append the number 10 to the list\n",
        "my_list.append(10)\n",
        "\n",
        "# Print the updated list\n",
        "print(my_list)\n"
      ],
      "metadata": {
        "colab": {
          "base_uri": "https://localhost:8080/"
        },
        "id": "lFMf4B6wg2_k",
        "outputId": "881ec264-327b-48e1-b706-b1bc2f190556"
      },
      "execution_count": 10,
      "outputs": [
        {
          "output_type": "stream",
          "name": "stdout",
          "text": [
            "[1, 2, 3, 4, 10]\n"
          ]
        }
      ]
    },
    {
      "cell_type": "code",
      "source": [
        "#8 Write a code to remove the number 3 from the list [1, 2, 3, 4, 5]\n",
        "# Create the list\n",
        "my_list = [1, 2, 3, 4, 5]\n",
        "\n",
        "# Remove the number 3 from the list\n",
        "my_list.remove(3)\n",
        "\n",
        "# Print the updated list\n",
        "print(my_list)\n"
      ],
      "metadata": {
        "colab": {
          "base_uri": "https://localhost:8080/"
        },
        "id": "oF_Q0jnbg9Vt",
        "outputId": "eb52b075-0ba3-4f3d-fc00-afb272b16fec"
      },
      "execution_count": 11,
      "outputs": [
        {
          "output_type": "stream",
          "name": "stdout",
          "text": [
            "[1, 2, 4, 5]\n"
          ]
        }
      ]
    },
    {
      "cell_type": "code",
      "source": [
        "#9 Write a code to access the second element in the list ['a', 'b', 'c', 'd']\n",
        "# Create the list\n",
        "my_list = ['a', 'b', 'c', 'd']\n",
        "\n",
        "# Access the second element (index 1)\n",
        "second_element = my_list[1]\n",
        "\n",
        "# Print the second element\n",
        "print(second_element)\n"
      ],
      "metadata": {
        "colab": {
          "base_uri": "https://localhost:8080/"
        },
        "id": "Hh1RnYhJhIsD",
        "outputId": "07eb4e67-b66e-4ed7-f2f0-a0f21d59a588"
      },
      "execution_count": 12,
      "outputs": [
        {
          "output_type": "stream",
          "name": "stdout",
          "text": [
            "b\n"
          ]
        }
      ]
    },
    {
      "cell_type": "code",
      "source": [
        "#10 Write a code to reverse the list [10, 20, 30, 40, 50]\n",
        "# Create the list\n",
        "my_list = [10, 20, 30, 40, 50]\n",
        "\n",
        "# Reverse the list\n",
        "reversed_list = my_list[::-1]\n",
        "\n",
        "# Print the reversed list\n",
        "print(reversed_list)\n"
      ],
      "metadata": {
        "colab": {
          "base_uri": "https://localhost:8080/"
        },
        "id": "iJ5nUXG-hPSX",
        "outputId": "f295425a-c1ff-45a8-f2f8-7cc2230e628c"
      },
      "execution_count": 13,
      "outputs": [
        {
          "output_type": "stream",
          "name": "stdout",
          "text": [
            "[50, 40, 30, 20, 10]\n"
          ]
        }
      ]
    },
    {
      "cell_type": "code",
      "source": [
        "#11 Write a code to create a tuple with the elements 100, 200, 300 and print it\n",
        "# Create a tuple with the elements 100, 200, 300\n",
        "my_tuple = (100, 200, 300)\n",
        "\n",
        "# Print the tuple\n",
        "print(my_tuple)\n"
      ],
      "metadata": {
        "colab": {
          "base_uri": "https://localhost:8080/"
        },
        "id": "Kxc6LTP0hVIh",
        "outputId": "172d2597-12a4-4e4d-c883-400afe8c0cd8"
      },
      "execution_count": 14,
      "outputs": [
        {
          "output_type": "stream",
          "name": "stdout",
          "text": [
            "(100, 200, 300)\n"
          ]
        }
      ]
    },
    {
      "cell_type": "code",
      "source": [
        "#12 Write a code to access the second-to-last element of the tuple ('red', 'green', 'blue', 'yellow')\n",
        "# Create the tuple\n",
        "my_tuple = ('red', 'green', 'blue', 'yellow')\n",
        "\n",
        "# Access the second-to-last element\n",
        "second_to_last_element = my_tuple[-2]\n",
        "\n",
        "# Print the second-to-last element\n",
        "print(second_to_last_element)\n"
      ],
      "metadata": {
        "colab": {
          "base_uri": "https://localhost:8080/"
        },
        "id": "B55SIqgwhaZj",
        "outputId": "864c13d4-8f11-4a3c-f66f-6084b243375a"
      },
      "execution_count": 15,
      "outputs": [
        {
          "output_type": "stream",
          "name": "stdout",
          "text": [
            "blue\n"
          ]
        }
      ]
    },
    {
      "cell_type": "code",
      "source": [
        "#13 Write a code to find the minimum number in the tuple (10, 20, 5, 15).\n",
        "# Create the tuple\n",
        "my_tuple = (10, 20, 5, 15)\n",
        "\n",
        "# Find the minimum number in the tuple\n",
        "min_number = min(my_tuple)\n",
        "\n",
        "# Print the minimum number\n",
        "print(min_number)\n"
      ],
      "metadata": {
        "colab": {
          "base_uri": "https://localhost:8080/"
        },
        "id": "OdoqmOE1hhK3",
        "outputId": "19b0ca6d-9b3b-4017-b795-995e6588223a"
      },
      "execution_count": 16,
      "outputs": [
        {
          "output_type": "stream",
          "name": "stdout",
          "text": [
            "5\n"
          ]
        }
      ]
    },
    {
      "cell_type": "code",
      "source": [
        "#14 Write a code to find the index of the element \"cat\" in the tuple ('dog', 'cat', 'rabbit')\n",
        "# Create the tuple\n",
        "my_tuple = ('dog', 'cat', 'rabbit')\n",
        "\n",
        "# Find the index of the element \"cat\"\n",
        "index_of_cat = my_tuple.index('cat')\n",
        "\n",
        "# Print the index\n",
        "print(index_of_cat)\n"
      ],
      "metadata": {
        "colab": {
          "base_uri": "https://localhost:8080/"
        },
        "id": "P5BBAipnhpjH",
        "outputId": "a6c1c1de-483e-4238-c9ad-afccf7116de6"
      },
      "execution_count": 17,
      "outputs": [
        {
          "output_type": "stream",
          "name": "stdout",
          "text": [
            "1\n"
          ]
        }
      ]
    },
    {
      "cell_type": "code",
      "source": [
        "#15 Write a code to create a tuple containing three different fruits and check if \"kiwi\" is in it.\n",
        "# Create a tuple with three different fruits\n",
        "fruits = (\"apple\", \"banana\", \"cherry\")\n",
        "\n",
        "# Check if \"kiwi\" is in the tuple\n",
        "is_kiwi_present = \"kiwi\" in fruits\n",
        "\n",
        "# Print the result\n",
        "print(is_kiwi_present)\n"
      ],
      "metadata": {
        "colab": {
          "base_uri": "https://localhost:8080/"
        },
        "id": "syWdYrY1hwWm",
        "outputId": "c31ccf03-ecd0-4639-cc0c-2ba3611e2cfd"
      },
      "execution_count": 18,
      "outputs": [
        {
          "output_type": "stream",
          "name": "stdout",
          "text": [
            "False\n"
          ]
        }
      ]
    },
    {
      "cell_type": "code",
      "source": [
        "#16 Write a code to create a set with the elements 'a', 'b', 'c' and print it\n",
        "# Create a set with the elements 'a', 'b', 'c'\n",
        "my_set = {'a', 'b', 'c'}\n",
        "\n",
        "# Print the set\n",
        "print(my_set)\n"
      ],
      "metadata": {
        "colab": {
          "base_uri": "https://localhost:8080/"
        },
        "id": "i_JX_Z1qh1jR",
        "outputId": "e094233c-1428-49b8-e504-e139bc94b3f0"
      },
      "execution_count": 19,
      "outputs": [
        {
          "output_type": "stream",
          "name": "stdout",
          "text": [
            "{'b', 'a', 'c'}\n"
          ]
        }
      ]
    },
    {
      "cell_type": "code",
      "source": [
        "#17 Write a code to clear all elements from the set {1, 2, 3, 4, 5}.\n",
        "# Create the set\n",
        "my_set = {1, 2, 3, 4, 5}\n",
        "\n",
        "# Clear all elements from the set\n",
        "my_set.clear()\n",
        "\n",
        "# Print the cleared set\n",
        "print(my_set)\n"
      ],
      "metadata": {
        "colab": {
          "base_uri": "https://localhost:8080/"
        },
        "id": "GI2tNLERiDLH",
        "outputId": "4c41ea9e-31a5-479b-ad6b-0d733c728c64"
      },
      "execution_count": 20,
      "outputs": [
        {
          "output_type": "stream",
          "name": "stdout",
          "text": [
            "set()\n"
          ]
        }
      ]
    },
    {
      "cell_type": "code",
      "source": [
        "#18 Write a code to remove the element 4 from the set {1, 2, 3, 4}.\n",
        "# Create the set\n",
        "my_set = {1, 2, 3, 4}\n",
        "\n",
        "# Remove the element 4 from the set\n",
        "my_set.remove(4)\n",
        "\n",
        "# Print the updated set\n",
        "print(my_set)\n"
      ],
      "metadata": {
        "colab": {
          "base_uri": "https://localhost:8080/"
        },
        "id": "l5iKVJV3iKYz",
        "outputId": "5752d915-e79e-4d78-aba8-867cc8ad0778"
      },
      "execution_count": 21,
      "outputs": [
        {
          "output_type": "stream",
          "name": "stdout",
          "text": [
            "{1, 2, 3}\n"
          ]
        }
      ]
    },
    {
      "cell_type": "code",
      "source": [
        "#19 Write a code to find the union of two sets {1, 2, 3} and {3, 4, 5}.\n",
        "# Create the sets\n",
        "set1 = {1, 2, 3}\n",
        "set2 = {3, 4, 5}\n",
        "\n",
        "# Find the union of the two sets\n",
        "union_set = set1.union(set2)\n",
        "\n",
        "# Print the union set\n",
        "print(union_set)\n"
      ],
      "metadata": {
        "colab": {
          "base_uri": "https://localhost:8080/"
        },
        "id": "dEutNkDDiQ1E",
        "outputId": "e10baeec-3b65-4c6d-d90b-eb91dfbed185"
      },
      "execution_count": 22,
      "outputs": [
        {
          "output_type": "stream",
          "name": "stdout",
          "text": [
            "{1, 2, 3, 4, 5}\n"
          ]
        }
      ]
    },
    {
      "cell_type": "code",
      "source": [
        "#20 Write a code to find the intersection of two sets {1, 2, 3} and {2, 3, 4}.\n",
        "# Create the sets\n",
        "set1 = {1, 2, 3}\n",
        "set2 = {2, 3, 4}\n",
        "\n",
        "# Find the intersection of the two sets\n",
        "intersection_set = set1.intersection(set2)\n",
        "\n",
        "# Print the intersection set\n",
        "print(intersection_set)\n"
      ],
      "metadata": {
        "colab": {
          "base_uri": "https://localhost:8080/"
        },
        "id": "0XQHejmHiWeL",
        "outputId": "589c7bb2-e1c1-4939-e6b8-baebed56c814"
      },
      "execution_count": 23,
      "outputs": [
        {
          "output_type": "stream",
          "name": "stdout",
          "text": [
            "{2, 3}\n"
          ]
        }
      ]
    },
    {
      "cell_type": "code",
      "source": [
        "#21 Write a code to create a dictionary with the keys \"name\", \"age\", and \"city\", and print it\n",
        "# Create a dictionary with the keys \"name\", \"age\", and \"city\"\n",
        "my_dict = {\n",
        "    \"name\": \"Alice\",\n",
        "    \"age\": 30,\n",
        "    \"city\": \"New York\"\n",
        "}\n",
        "\n",
        "# Print the dictionary\n",
        "print(my_dict)\n"
      ],
      "metadata": {
        "colab": {
          "base_uri": "https://localhost:8080/"
        },
        "id": "xukkSbYvibtp",
        "outputId": "e82b7ffe-db9f-4c5a-9390-ea4e3e0d937f"
      },
      "execution_count": 24,
      "outputs": [
        {
          "output_type": "stream",
          "name": "stdout",
          "text": [
            "{'name': 'Alice', 'age': 30, 'city': 'New York'}\n"
          ]
        }
      ]
    },
    {
      "cell_type": "code",
      "source": [
        "#22 Write a code to add a new key-value pair \"country\": \"USA\" to the dictionary {'name': 'John', 'age': 25}.\n",
        "# Create the dictionary\n",
        "my_dict = {'name': 'John', 'age': 25}\n",
        "\n",
        "# Add the new key-value pair\n",
        "my_dict['country'] = 'USA'\n",
        "\n",
        "# Print the updated dictionary\n",
        "print(my_dict)\n"
      ],
      "metadata": {
        "colab": {
          "base_uri": "https://localhost:8080/"
        },
        "id": "Cg0TKe18iiR7",
        "outputId": "bdc1c497-7a34-4b0d-c653-91e0ebe11f44"
      },
      "execution_count": 25,
      "outputs": [
        {
          "output_type": "stream",
          "name": "stdout",
          "text": [
            "{'name': 'John', 'age': 25, 'country': 'USA'}\n"
          ]
        }
      ]
    },
    {
      "cell_type": "code",
      "source": [
        "#23 Write a code to access the value associated with the key \"name\" in the dictionary {'name': 'Alice', 'age': 30}\n",
        "# Create the dictionary\n",
        "my_dict = {'name': 'Alice', 'age': 30}\n",
        "\n",
        "# Access the value associated with the key \"name\"\n",
        "name_value = my_dict['name']\n",
        "\n",
        "# Print the value\n",
        "print(name_value)\n"
      ],
      "metadata": {
        "colab": {
          "base_uri": "https://localhost:8080/"
        },
        "id": "1AV8geQQip1Y",
        "outputId": "11852538-1220-4ecd-c55d-76d6155d7470"
      },
      "execution_count": 26,
      "outputs": [
        {
          "output_type": "stream",
          "name": "stdout",
          "text": [
            "Alice\n"
          ]
        }
      ]
    },
    {
      "cell_type": "code",
      "source": [
        "#24 Write a code to remove the key \"age\" from the dictionary {'name': 'Bob', 'age': 22, 'city': 'New York'}\n",
        "# Create the dictionary\n",
        "my_dict = {'name': 'Bob', 'age': 22, 'city': 'New York'}\n",
        "\n",
        "# Remove the key \"age\" from the dictionary\n",
        "my_dict.pop('age')\n",
        "\n",
        "# Print the updated dictionary\n",
        "print(my_dict)\n"
      ],
      "metadata": {
        "colab": {
          "base_uri": "https://localhost:8080/"
        },
        "id": "lYt8jkvbiv7K",
        "outputId": "07f15a53-d6e5-48fd-c2a7-b4135b60bd52"
      },
      "execution_count": 27,
      "outputs": [
        {
          "output_type": "stream",
          "name": "stdout",
          "text": [
            "{'name': 'Bob', 'city': 'New York'}\n"
          ]
        }
      ]
    },
    {
      "cell_type": "code",
      "source": [
        "#25 Write a code to check if the key \"city\" exists in the dictionary {'name': 'Alice', 'city': 'Paris'}.\n",
        "# Create the dictionary\n",
        "my_dict = {'name': 'Alice', 'city': 'Paris'}\n",
        "\n",
        "# Check if the key \"city\" exists in the dictionary\n",
        "key_exists = 'city' in my_dict\n",
        "\n",
        "# Print the result\n",
        "print(key_exists)\n"
      ],
      "metadata": {
        "colab": {
          "base_uri": "https://localhost:8080/"
        },
        "id": "ax6Lnskai1yk",
        "outputId": "56cf7f36-8952-4cf6-ca34-a398e7fcc2ad"
      },
      "execution_count": 28,
      "outputs": [
        {
          "output_type": "stream",
          "name": "stdout",
          "text": [
            "True\n"
          ]
        }
      ]
    },
    {
      "cell_type": "code",
      "source": [
        "#26 Write a code to create a list, a tuple, and a dictionary, and print them all\n",
        "# Create a list\n",
        "my_list = [1, 2, 3, 4, 5]\n",
        "\n",
        "# Create a tuple\n",
        "my_tuple = (10, 20, 30, 40, 50)\n",
        "\n",
        "# Create a dictionary\n",
        "my_dict = {\n",
        "    \"name\": \"Alice\",\n",
        "    \"age\": 30,\n",
        "    \"city\": \"New York\"\n",
        "}\n",
        "\n",
        "# Print the list, tuple, and dictionary\n",
        "print(\"List:\", my_list)\n",
        "print(\"Tuple:\", my_tuple)\n",
        "print(\"Dictionary:\", my_dict)\n"
      ],
      "metadata": {
        "colab": {
          "base_uri": "https://localhost:8080/"
        },
        "id": "9z3HB-Qxi8QO",
        "outputId": "f9cef140-92bf-4605-f4cd-d6c2923358aa"
      },
      "execution_count": 29,
      "outputs": [
        {
          "output_type": "stream",
          "name": "stdout",
          "text": [
            "List: [1, 2, 3, 4, 5]\n",
            "Tuple: (10, 20, 30, 40, 50)\n",
            "Dictionary: {'name': 'Alice', 'age': 30, 'city': 'New York'}\n"
          ]
        }
      ]
    },
    {
      "cell_type": "code",
      "source": [
        "#27 Write a code to create a list of 5 random numbers between 1 and 100, sort it in ascending order, and print the result.(replaced)\n",
        "import random\n",
        "\n",
        "random_list = random.sample(range(1, 101), 5)\n",
        "\n",
        "# Sort the list in ascending order\n",
        "sorted_list = sorted(random_list)\n",
        "\n",
        "# Print the sorted list\n",
        "print(sorted_list)\n",
        "\n",
        "\n"
      ],
      "metadata": {
        "colab": {
          "base_uri": "https://localhost:8080/"
        },
        "id": "yhTffjatjCKV",
        "outputId": "e7529fb7-e5c4-473f-80e2-958ac829786a"
      },
      "execution_count": 33,
      "outputs": [
        {
          "output_type": "stream",
          "name": "stdout",
          "text": [
            "[25, 48, 76, 81, 83]\n"
          ]
        }
      ]
    },
    {
      "cell_type": "code",
      "source": [
        "#28 Write a code to create a list with strings and print the element at the third index.\n",
        "# Create a list with strings\n",
        "my_list = ['apple', 'banana', 'cherry', 'date']\n",
        "\n",
        "# Print the element at the third index (index 2)\n",
        "third_index_element = my_list[2]\n",
        "\n",
        "# Print the element\n",
        "print(third_index_element)\n"
      ],
      "metadata": {
        "colab": {
          "base_uri": "https://localhost:8080/"
        },
        "id": "pwOAYicxjzj3",
        "outputId": "e9cbfb9d-9193-4e5f-e1f7-c138fb824664"
      },
      "execution_count": 34,
      "outputs": [
        {
          "output_type": "stream",
          "name": "stdout",
          "text": [
            "cherry\n"
          ]
        }
      ]
    },
    {
      "cell_type": "code",
      "source": [
        "#29 Write a code to combine two dictionaries into one and print the result.\n",
        "# Create the dictionaries\n",
        "dict1 = {'name': 'Alice', 'age': 30}\n",
        "dict2 = {'city': 'New York', 'country': 'USA'}\n",
        "\n",
        "# Combine the dictionaries\n",
        "combined_dict = {**dict1, **dict2}\n",
        "\n",
        "# Print the combined dictionary\n",
        "print(combined_dict)\n"
      ],
      "metadata": {
        "colab": {
          "base_uri": "https://localhost:8080/"
        },
        "id": "5V2MvK-1kCWF",
        "outputId": "1b1b6131-273e-435a-bbfa-93d49007b264"
      },
      "execution_count": 35,
      "outputs": [
        {
          "output_type": "stream",
          "name": "stdout",
          "text": [
            "{'name': 'Alice', 'age': 30, 'city': 'New York', 'country': 'USA'}\n"
          ]
        }
      ]
    },
    {
      "cell_type": "code",
      "source": [
        "#30 Write a code to convert a list of strings into a set\n",
        "# Create a list of strings\n",
        "my_list = ['apple', 'banana', 'cherry', 'apple']\n",
        "\n",
        "# Convert the list into a set\n",
        "my_set = set(my_list)\n",
        "\n",
        "# Print the set\n",
        "print(my_set)\n"
      ],
      "metadata": {
        "colab": {
          "base_uri": "https://localhost:8080/"
        },
        "id": "Pv8KFXLMkIIc",
        "outputId": "eecdda46-3388-481d-beff-82a5030966a2"
      },
      "execution_count": 36,
      "outputs": [
        {
          "output_type": "stream",
          "name": "stdout",
          "text": [
            "{'cherry', 'apple', 'banana'}\n"
          ]
        }
      ]
    }
  ]
}